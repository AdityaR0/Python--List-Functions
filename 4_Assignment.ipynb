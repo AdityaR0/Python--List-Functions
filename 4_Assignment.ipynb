{
 "cells": [
  {
   "cell_type": "code",
   "execution_count": null,
   "id": "7e831018-5442-49a8-ae7d-9578120a625d",
   "metadata": {},
   "outputs": [],
   "source": [
    "Python- List Functions  Assignment Questions:\n",
    "\n",
    "Q1. What is the syntax for adding an element to a list in Python?\n",
    "\n",
    "Ans:)To add an item to the end of the list, use the append() method.\n",
    "\n",
    "thislist = [\"apple\", \"banana\", \"cherry\"]\n",
    "thislist.append(\"orange\")\n",
    "print(thislist)\n",
    "\n",
    "Q2. What is the difference between remove() and pop() functions in Python?\n",
    "\n",
    "Ans:)\n",
    "\n",
    "Remove():\n",
    "1)It is a method.\n",
    "2)To delete value this method uses the value as a parameter.\n",
    "3)The remove() method doesn’t return any value.\n",
    "4)At a time it deletes only one value from the list.\n",
    "5)It throws value error in case of value doesn’t exist in the list.\n",
    "\n",
    "pop():  \n",
    "1)pop() is a method.\n",
    "2)This method also uses the index as a parameter to delete.\n",
    "3)pop() returns deleted value.\n",
    "4)At a time it deletes only one value from the list.\n",
    "5)It throws index error in case of an index doesn’t exist in the list.\n",
    "\n",
    "Q3. Write a Python code to sort a list in descending order.\n",
    "\n",
    "Ans:)\n",
    "\n",
    "numbers = [1, 3, 4, 2] \n",
    "numbers.sort(reverse=True) \n",
    "print(numbers)      \n",
    "\t\n",
    "Q4. Write a Python code to count the number of occurrences of an element in a list.\t\n",
    "\t\n",
    "Ans:)\n",
    "list2=[12,54,67,86,89,12,54,67,67,67,66]\n",
    "print(\"Original list:\\n\", list2)\n",
    "\n",
    "# Count occurrences using count()\n",
    "print(\"67 occurrence: \",list2.count(67))\n",
    "print(\"86 occurrence: \",list2.count(86))\n",
    "print(\"99 occurrence: \",list2.count(99))\n",
    "\t\n",
    "Q5. Write a Python code to reverse a list.\n",
    "\n",
    "Ans:)\n",
    "my_list = [1, 2, 3]\n",
    "my_list.reverse()\n",
    "print(my_list)"
   ]
  }
 ],
 "metadata": {
  "kernelspec": {
   "display_name": "Python 3 (ipykernel)",
   "language": "python",
   "name": "python3"
  },
  "language_info": {
   "codemirror_mode": {
    "name": "ipython",
    "version": 3
   },
   "file_extension": ".py",
   "mimetype": "text/x-python",
   "name": "python",
   "nbconvert_exporter": "python",
   "pygments_lexer": "ipython3",
   "version": "3.10.8"
  }
 },
 "nbformat": 4,
 "nbformat_minor": 5
}
